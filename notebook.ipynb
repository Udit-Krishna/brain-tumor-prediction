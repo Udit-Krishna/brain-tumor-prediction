{
 "cells": [
  {
   "cell_type": "code",
   "execution_count": 1,
   "metadata": {},
   "outputs": [],
   "source": [
    "import tensorflow as tf\n",
    "from keras.preprocessing.image import ImageDataGenerator"
   ]
  },
  {
   "cell_type": "code",
   "execution_count": 2,
   "metadata": {},
   "outputs": [
    {
     "name": "stdout",
     "output_type": "stream",
     "text": [
      "Found 203 images belonging to 2 classes.\n"
     ]
    },
    {
     "name": "stdout",
     "output_type": "stream",
     "text": [
      "Found 50 images belonging to 2 classes.\n"
     ]
    }
   ],
   "source": [
    "train_datagen = ImageDataGenerator(rescale=1./255,\n",
    "    shear_range=0.2,\n",
    "    zoom_range=0.2,\n",
    "    horizontal_flip=True,\n",
    "    validation_split=0.2)\n",
    "\n",
    "train_generator = train_datagen.flow_from_directory(\n",
    "    \"brain_tumor_dataset\",\n",
    "    target_size=(64, 64),\n",
    "    batch_size=32,\n",
    "    class_mode='binary',\n",
    "    subset='training')\n",
    "\n",
    "validation_generator = train_datagen.flow_from_directory(\n",
    "    \"brain_tumor_dataset\",\n",
    "    target_size=(64, 64),\n",
    "    batch_size=32,\n",
    "    class_mode='binary',\n",
    "    subset='validation')"
   ]
  },
  {
   "cell_type": "code",
   "execution_count": 3,
   "metadata": {},
   "outputs": [],
   "source": [
    "cnn = tf.keras.models.Sequential()"
   ]
  },
  {
   "cell_type": "code",
   "execution_count": 4,
   "metadata": {},
   "outputs": [],
   "source": [
    "cnn.add(tf.keras.layers.Conv2D(filters=32,kernel_size=3,activation='relu',input_shape=[64,64,3]))"
   ]
  },
  {
   "cell_type": "code",
   "execution_count": 5,
   "metadata": {},
   "outputs": [],
   "source": [
    "cnn.add(tf.keras.layers.MaxPool2D(pool_size=2,strides=2))"
   ]
  },
  {
   "cell_type": "code",
   "execution_count": 6,
   "metadata": {},
   "outputs": [],
   "source": [
    "cnn.add(tf.keras.layers.Conv2D(filters=32,kernel_size=3,activation='relu'))\n",
    "cnn.add(tf.keras.layers.MaxPool2D(pool_size=2,strides=2))"
   ]
  },
  {
   "cell_type": "code",
   "execution_count": 7,
   "metadata": {},
   "outputs": [],
   "source": [
    "cnn.add(tf.keras.layers.Flatten())"
   ]
  },
  {
   "cell_type": "code",
   "execution_count": 8,
   "metadata": {},
   "outputs": [],
   "source": [
    "cnn.add(tf.keras.layers.Dense(units=128, activation='relu'))"
   ]
  },
  {
   "cell_type": "code",
   "execution_count": 9,
   "metadata": {},
   "outputs": [],
   "source": [
    "cnn.add(tf.keras.layers.Dense(units=1, activation='sigmoid'))"
   ]
  },
  {
   "cell_type": "code",
   "execution_count": 10,
   "metadata": {},
   "outputs": [],
   "source": [
    "cnn.compile(optimizer='adam',loss='binary_crossentropy',metrics=['accuracy'])"
   ]
  },
  {
   "cell_type": "code",
   "execution_count": 11,
   "metadata": {},
   "outputs": [
    {
     "name": "stdout",
     "output_type": "stream",
     "text": [
      "Epoch 1/25\n",
      "7/7 [==============================] - 3s 253ms/step - loss: 0.6898 - accuracy: 0.5517 - val_loss: 0.6997 - val_accuracy: 0.6200\n",
      "Epoch 2/25\n",
      "7/7 [==============================] - 1s 212ms/step - loss: 0.6303 - accuracy: 0.6256 - val_loss: 0.5919 - val_accuracy: 0.6200\n",
      "Epoch 3/25\n",
      "7/7 [==============================] - 2s 230ms/step - loss: 0.6001 - accuracy: 0.6847 - val_loss: 0.5575 - val_accuracy: 0.7200\n",
      "Epoch 4/25\n",
      "7/7 [==============================] - 2s 211ms/step - loss: 0.5645 - accuracy: 0.7586 - val_loss: 0.5919 - val_accuracy: 0.7200\n",
      "Epoch 5/25\n",
      "7/7 [==============================] - 1s 213ms/step - loss: 0.5454 - accuracy: 0.7537 - val_loss: 0.6620 - val_accuracy: 0.6400\n",
      "Epoch 6/25\n",
      "7/7 [==============================] - 2s 232ms/step - loss: 0.5377 - accuracy: 0.7340 - val_loss: 0.5294 - val_accuracy: 0.7400\n",
      "Epoch 7/25\n",
      "7/7 [==============================] - 2s 221ms/step - loss: 0.5640 - accuracy: 0.6897 - val_loss: 0.4885 - val_accuracy: 0.7800\n",
      "Epoch 8/25\n",
      "7/7 [==============================] - 2s 255ms/step - loss: 0.5181 - accuracy: 0.7635 - val_loss: 0.5344 - val_accuracy: 0.7600\n",
      "Epoch 9/25\n",
      "7/7 [==============================] - 2s 232ms/step - loss: 0.4925 - accuracy: 0.7488 - val_loss: 0.5101 - val_accuracy: 0.7600\n",
      "Epoch 10/25\n",
      "7/7 [==============================] - 1s 195ms/step - loss: 0.4675 - accuracy: 0.7931 - val_loss: 0.4483 - val_accuracy: 0.7800\n",
      "Epoch 11/25\n",
      "7/7 [==============================] - 1s 178ms/step - loss: 0.4694 - accuracy: 0.7833 - val_loss: 0.5579 - val_accuracy: 0.7400\n",
      "Epoch 12/25\n",
      "7/7 [==============================] - 2s 256ms/step - loss: 0.4307 - accuracy: 0.8227 - val_loss: 0.5140 - val_accuracy: 0.7400\n",
      "Epoch 13/25\n",
      "7/7 [==============================] - 1s 170ms/step - loss: 0.4797 - accuracy: 0.7833 - val_loss: 0.4360 - val_accuracy: 0.8000\n",
      "Epoch 14/25\n",
      "7/7 [==============================] - 1s 166ms/step - loss: 0.4415 - accuracy: 0.7833 - val_loss: 0.5374 - val_accuracy: 0.6800\n",
      "Epoch 15/25\n",
      "7/7 [==============================] - 1s 172ms/step - loss: 0.3638 - accuracy: 0.8719 - val_loss: 0.4773 - val_accuracy: 0.7800\n",
      "Epoch 16/25\n",
      "7/7 [==============================] - 1s 180ms/step - loss: 0.3604 - accuracy: 0.8276 - val_loss: 0.4587 - val_accuracy: 0.7800\n",
      "Epoch 17/25\n",
      "7/7 [==============================] - 1s 192ms/step - loss: 0.3637 - accuracy: 0.8424 - val_loss: 0.5334 - val_accuracy: 0.7800\n",
      "Epoch 18/25\n",
      "7/7 [==============================] - 2s 259ms/step - loss: 0.3851 - accuracy: 0.8177 - val_loss: 0.5234 - val_accuracy: 0.7800\n",
      "Epoch 19/25\n",
      "7/7 [==============================] - 2s 242ms/step - loss: 0.3723 - accuracy: 0.8424 - val_loss: 0.5109 - val_accuracy: 0.7400\n",
      "Epoch 20/25\n",
      "7/7 [==============================] - 2s 217ms/step - loss: 0.3438 - accuracy: 0.8325 - val_loss: 0.8772 - val_accuracy: 0.6800\n",
      "Epoch 21/25\n",
      "7/7 [==============================] - 2s 229ms/step - loss: 0.4132 - accuracy: 0.8177 - val_loss: 0.7598 - val_accuracy: 0.7800\n",
      "Epoch 22/25\n",
      "7/7 [==============================] - 2s 220ms/step - loss: 0.4169 - accuracy: 0.8325 - val_loss: 0.5568 - val_accuracy: 0.7200\n",
      "Epoch 23/25\n",
      "7/7 [==============================] - 2s 237ms/step - loss: 0.3883 - accuracy: 0.7931 - val_loss: 0.5337 - val_accuracy: 0.7200\n",
      "Epoch 24/25\n",
      "7/7 [==============================] - 2s 264ms/step - loss: 0.3728 - accuracy: 0.8424 - val_loss: 0.5759 - val_accuracy: 0.7200\n",
      "Epoch 25/25\n",
      "7/7 [==============================] - 2s 263ms/step - loss: 0.3593 - accuracy: 0.8473 - val_loss: 0.5517 - val_accuracy: 0.7600\n"
     ]
    },
    {
     "data": {
      "text/plain": [
       "<keras.callbacks.History at 0x237ecabc820>"
      ]
     },
     "execution_count": 11,
     "metadata": {},
     "output_type": "execute_result"
    }
   ],
   "source": [
    "cnn.fit(x=train_generator,validation_data=validation_generator, epochs=25)"
   ]
  },
  {
   "cell_type": "code",
   "execution_count": 12,
   "metadata": {},
   "outputs": [
    {
     "name": "stdout",
     "output_type": "stream",
     "text": [
      "1/1 [==============================] - 0s 124ms/step\n",
      "There is tumor\n"
     ]
    }
   ],
   "source": [
    "import numpy as np\n",
    "from keras.utils import load_img,img_to_array\n",
    "\n",
    "test_image = load_img('test_pic_1.jpg',target_size=(64,64))\n",
    "test_image = img_to_array(test_image)\n",
    "test_image = np.expand_dims(test_image,axis=0)\n",
    "result = cnn.predict(test_image)\n",
    "train_generator.class_indices\n",
    "if result[0][0]==1:\n",
    "    prediction = 'There is no tumor'\n",
    "else :\n",
    "    prediction = 'There is tumor'\n",
    "\n",
    "print(prediction)"
   ]
  },
  {
   "cell_type": "code",
   "execution_count": 13,
   "metadata": {},
   "outputs": [
    {
     "name": "stdout",
     "output_type": "stream",
     "text": [
      "1/1 [==============================] - 0s 86ms/step\n",
      "There is no tumor\n"
     ]
    }
   ],
   "source": [
    "import numpy as np\n",
    "from keras.utils import load_img,img_to_array\n",
    "\n",
    "test_image = load_img('test_pic_2.png',target_size=(64,64))\n",
    "test_image = img_to_array(test_image)\n",
    "test_image = np.expand_dims(test_image,axis=0)\n",
    "result = cnn.predict(test_image)\n",
    "train_generator.class_indices\n",
    "if result[0][0]==1:\n",
    "    prediction = 'There is no tumor'\n",
    "else :\n",
    "    prediction = 'There is tumor'\n",
    "\n",
    "print(prediction)"
   ]
  },
  {
   "cell_type": "code",
   "execution_count": null,
   "metadata": {},
   "outputs": [],
   "source": []
  }
 ],
 "metadata": {
  "kernelspec": {
   "display_name": "Python 3",
   "language": "python",
   "name": "python3"
  },
  "language_info": {
   "codemirror_mode": {
    "name": "ipython",
    "version": 3
   },
   "file_extension": ".py",
   "mimetype": "text/x-python",
   "name": "python",
   "nbconvert_exporter": "python",
   "pygments_lexer": "ipython3",
   "version": "3.10.4"
  },
  "orig_nbformat": 4
 },
 "nbformat": 4,
 "nbformat_minor": 2
}
